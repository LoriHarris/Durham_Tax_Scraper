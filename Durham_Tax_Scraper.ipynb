{
 "cells": [
  {
   "cell_type": "code",
   "execution_count": 1,
   "metadata": {},
   "outputs": [],
   "source": [
    "\n",
    "from splinter import Browser\n",
    "from bs4 import BeautifulSoup\n",
    "import time\n",
    "import pymongo\n",
    "import requests\n",
    "from splinter.exceptions import ElementDoesNotExist\n",
    "import pandas as pd\n"
   ]
  },
  {
   "cell_type": "code",
   "execution_count": 2,
   "metadata": {},
   "outputs": [],
   "source": [
    "\n",
    "\n",
    "def init_browser():\n",
    "\n",
    "        executable_path = {\"executable_path\": \"chromedriver.exe\"}\n",
    "        return Browser(\"chrome\", **executable_path, headless=False)\n",
    "\n",
    "\n"
   ]
  },
  {
   "cell_type": "code",
   "execution_count": null,
   "metadata": {},
   "outputs": [],
   "source": [
    "address = 'Princess Pl'\n",
    "browser = init_browser()\n",
    "url = 'https://property.spatialest.com/nc/durham/#/'\n",
    "browser.visit(url)\n",
    "html = browser.html\n",
    "soup = BeautifulSoup(html, 'html.parser')\n",
    "\n",
    "results = soup.find_all('input', class_='search')\n",
    "print(results)"
   ]
  },
  {
   "cell_type": "code",
   "execution_count": null,
   "metadata": {},
   "outputs": [],
   "source": [
    "browser.find_by_id('primary_search').first.fill(address)"
   ]
  },
  {
   "cell_type": "code",
   "execution_count": null,
   "metadata": {},
   "outputs": [],
   "source": [
    "browser.click_link_by_partial_href('#') "
   ]
  },
  {
   "cell_type": "code",
   "execution_count": null,
   "metadata": {},
   "outputs": [],
   "source": [
    "# browser.click_link_by_partial_href(\"#/property\")"
   ]
  },
  {
   "cell_type": "code",
   "execution_count": null,
   "metadata": {},
   "outputs": [],
   "source": [
    "# property_link = browser.html\n",
    "# prop_link = BeautifulSoup(property_link, 'html.parser')\n"
   ]
  },
  {
   "cell_type": "code",
   "execution_count": null,
   "metadata": {},
   "outputs": [],
   "source": [
    "# prop_mailing = prop_link.find('div', class_='mailing')\n",
    "# prop_mailing.text"
   ]
  },
  {
   "cell_type": "code",
   "execution_count": null,
   "metadata": {},
   "outputs": [],
   "source": [
    "# sales = []\n",
    "# prop_table = prop_link.findAll('table')[3]\n",
    "# for tr in prop_table.findAll('tr'):\n",
    "#     for td in tr.findAll('td'):\n",
    "#         sales.append(td.text)\n",
    "# sales[0]"
   ]
  },
  {
   "cell_type": "code",
   "execution_count": null,
   "metadata": {},
   "outputs": [],
   "source": [
    "# browser.click_link_by_partial_text('sults') "
   ]
  },
  {
   "cell_type": "code",
   "execution_count": null,
   "metadata": {},
   "outputs": [],
   "source": [
    "data = browser.url\n",
    "browser.visit(data)\n",
    "\n",
    "property_link1 = browser.html\n",
    "prop_link1 = BeautifulSoup(property_link1, 'html.parser')\n",
    "prop_link1\n",
    "prop_list = []\n",
    "addresses = prop_link1.findAll('div', class_=\"item-1\")\n",
    "for address in addresses:\n",
    "    prop_list.append(address.text)\n",
    "prop_list"
   ]
  },
  {
   "cell_type": "code",
   "execution_count": null,
   "metadata": {},
   "outputs": [],
   "source": [
    "browser.click_link_by_partial_text('Next') "
   ]
  },
  {
   "cell_type": "code",
   "execution_count": null,
   "metadata": {},
   "outputs": [],
   "source": [
    "data = browser.url\n",
    "browser.visit(data)\n",
    "property_link2 = browser.html\n",
    "prop_link2 = BeautifulSoup(property_link2, 'html.parser')\n",
    "prop_link2\n",
    "\n",
    "addresses1 = prop_link2.findAll('div', class_=\"item-1\")\n",
    "for address1 in addresses1:\n",
    "    prop_list.append(address1.text)\n",
    "prop_list"
   ]
  },
  {
   "cell_type": "code",
   "execution_count": null,
   "metadata": {},
   "outputs": [],
   "source": [
    "browser.click_link_by_partial_href('spatialest')\n",
    "time.sleep(3)\n",
    "prop_mailing1 = []    \n",
    "sales = []\n",
    "for prop in prop_list:\n",
    "    browser.find_by_id('primary_search').first.fill(prop)\n",
    "    time.sleep(3)\n",
    "    browser.click_link_by_partial_href('#') \n",
    "    time.sleep(5)\n",
    "    data = browser.url\n",
    "    browser.visit(data)\n",
    "    time.sleep(3)\n",
    "    property_link3 = browser.html\n",
    "    prop_link = BeautifulSoup(property_link3, 'html.parser')\n",
    "    prop_mailing = prop_link.find('div', class_='mailing')\n",
    "    prop_mailing1.append(prop)\n",
    "    sales.append(prop)\n",
    "    prop_table = prop_link.findAll('table')[3]\n",
    "    for tr in prop_table.findAll('tr'):\n",
    "        for td in tr.findAll('td'):\n",
    "            sales.append(td)\n",
    "    browser.click_link_by_partial_href('spatialest')\n",
    "    time.sleep(3)"
   ]
  },
  {
   "cell_type": "code",
   "execution_count": null,
   "metadata": {},
   "outputs": [],
   "source": [
    "sales1 = []\n",
    "for x in sales:\n",
    "    sales1.append(x.text)\n",
    "sales1\n"
   ]
  },
  {
   "cell_type": "code",
   "execution_count": null,
   "metadata": {},
   "outputs": [],
   "source": [
    "len(sales1)"
   ]
  },
  {
   "cell_type": "code",
   "execution_count": null,
   "metadata": {},
   "outputs": [],
   "source": [
    "len(prop_list)"
   ]
  },
  {
   "cell_type": "code",
   "execution_count": null,
   "metadata": {},
   "outputs": [],
   "source": [
    "print(sale_price)\n",
    "print(sale_date)\n",
    "sale_price = sales1[::2]\n",
    "sale_date =  sales1[1::2]\n"
   ]
  },
  {
   "cell_type": "code",
   "execution_count": null,
   "metadata": {},
   "outputs": [],
   "source": [
    "df = pd.DataFrame(columns=['Address', 'Price', 'Date'])\n",
    "# df['Address']=prop_list\n",
    "df['Price']=sale_price\n",
    "df['Date']=sale_date\n",
    "df"
   ]
  },
  {
   "cell_type": "code",
   "execution_count": null,
   "metadata": {},
   "outputs": [],
   "source": [
    "len(prop_list)"
   ]
  },
  {
   "cell_type": "code",
   "execution_count": null,
   "metadata": {},
   "outputs": [],
   "source": []
  }
 ],
 "metadata": {
  "kernelspec": {
   "display_name": "Python 3",
   "language": "python",
   "name": "python3"
  },
  "language_info": {
   "codemirror_mode": {
    "name": "ipython",
    "version": 3
   },
   "file_extension": ".py",
   "mimetype": "text/x-python",
   "name": "python",
   "nbconvert_exporter": "python",
   "pygments_lexer": "ipython3",
   "version": "3.7.2"
  }
 },
 "nbformat": 4,
 "nbformat_minor": 2
}
