{
 "cells": [
  {
   "cell_type": "code",
   "execution_count": 29,
   "metadata": {},
   "outputs": [],
   "source": [
    "\n",
    "from splinter import Browser\n",
    "from bs4 import BeautifulSoup\n",
    "import time\n",
    "import pymongo\n",
    "import requests\n",
    "# from splinter.exceptions import ElementDoesNotExist\n",
    "import pandas as pd\n",
    "from flask_pymongo import PyMongo\n",
    "from flask import Flask"
   ]
  },
  {
   "cell_type": "code",
   "execution_count": 30,
   "metadata": {},
   "outputs": [],
   "source": [
    "\n",
    "\n",
    "def init_browser():\n",
    "\n",
    "        executable_path = {\"executable_path\": \"chromedriver.exe\"}\n",
    "        return Browser(\"chrome\", **executable_path, headless=False)\n",
    "\n",
    "\n"
   ]
  },
  {
   "cell_type": "code",
   "execution_count": 3,
   "metadata": {},
   "outputs": [
    {
     "name": "stdout",
     "output_type": "stream",
     "text": [
      "['Marne Ave']\n"
     ]
    }
   ],
   "source": [
    "# app = Flask(__name__)\n",
    "# mongo = PyMongo(app, uri=\"mongodb://localhost:27017/tax_app\")\n",
    "\n",
    "# address = mongo.db.input.distinct('Query')\n",
    "# address_list = []\n",
    "# for x in address:\n",
    "#     address_list.append(x)\n",
    "# print(address)\n",
    "# # address = 'Holston'\n",
    "# browser = init_browser()\n",
    "# url = 'https://property.spatialest.com/nc/durham/#/'\n",
    "# browser.visit(url)\n",
    "# html = browser.html\n",
    "# soup = BeautifulSoup(html, 'html.parser')\n",
    "\n",
    "# results = soup.find_all('input', class_='search')\n",
    "# # print(results)"
   ]
  },
  {
   "cell_type": "code",
   "execution_count": 4,
   "metadata": {},
   "outputs": [],
   "source": [
    "# browser.find_by_id('primary_search').first.fill(address)"
   ]
  },
  {
   "cell_type": "code",
   "execution_count": 5,
   "metadata": {},
   "outputs": [],
   "source": [
    "# browser.click_link_by_partial_href('#') "
   ]
  },
  {
   "cell_type": "code",
   "execution_count": 6,
   "metadata": {},
   "outputs": [
    {
     "data": {
      "text/plain": [
       "['1335 MARNE AVE',\n",
       " '1339 MARNE AVE',\n",
       " '1344 MARNE AVE',\n",
       " '1344 MARNE AVE, C',\n",
       " '1344 MARNE AVE, B',\n",
       " '1344 MARNE AVE, C',\n",
       " '1344 MARNE AVE, D',\n",
       " '1340 MARNE AVE',\n",
       " '1334 MARNE AVE',\n",
       " '1330 MARNE AVE',\n",
       " '1326 MARNE AVE',\n",
       " '1322 MARNE AVE',\n",
       " '1318 MARNE AVE',\n",
       " '1314 MARNE AVE',\n",
       " '1310 MARNE AVE',\n",
       " '1306 MARNE AVE',\n",
       " '1302 MARNE AVE',\n",
       " '1242 MARNE AVE',\n",
       " '1240 MARNE AVE',\n",
       " '1236 MARNE AVE',\n",
       " '1232 MARNE AVE']"
      ]
     },
     "execution_count": 6,
     "metadata": {},
     "output_type": "execute_result"
    }
   ],
   "source": [
    "# data = browser.url\n",
    "# browser.visit(data)\n",
    "\n",
    "# property_link1 = browser.html\n",
    "# prop_link1 = BeautifulSoup(property_link1, 'html.parser')\n",
    "# prop_link1\n",
    "# prop_list = []\n",
    "# addresses = prop_link1.findAll('div', class_=\"item-1\")\n",
    "# for address in addresses:\n",
    "#     prop_list.append(address.text)\n",
    "# prop_list"
   ]
  },
  {
   "cell_type": "code",
   "execution_count": 52,
   "metadata": {},
   "outputs": [
    {
     "name": "stdout",
     "output_type": "stream",
     "text": [
      "['Ripley St']\n"
     ]
    }
   ],
   "source": [
    "app = Flask(__name__)\n",
    "mongo = PyMongo(app, uri=\"mongodb://localhost:27017/tax_app\")\n",
    "\n",
    "address = mongo.db.input.distinct('Query')\n",
    "address_list = []\n",
    "for x in address:\n",
    "    address_list.append(x)\n",
    "print(address)\n"
   ]
  },
  {
   "cell_type": "code",
   "execution_count": 53,
   "metadata": {},
   "outputs": [],
   "source": [
    "# address = 'Holston'\n",
    "browser = init_browser()\n",
    "url = 'https://property.spatialest.com/nc/durham/#/'\n",
    "browser.visit(url)\n",
    "html = browser.html\n",
    "soup = BeautifulSoup(html, 'html.parser')\n",
    "\n",
    "results = soup.find_all('input', class_='search')\n",
    "browser.find_by_id('primary_search').first.fill(address)\n",
    "time.sleep(3)\n",
    "browser.click_link_by_partial_href('#')\n",
    "time.sleep(3)\n",
    "data = browser.url\n",
    "browser.visit(data)\n",
    "\n",
    "property_link1 = browser.html\n",
    "prop_link1 = BeautifulSoup(property_link1, 'html.parser')\n",
    "prop_link1\n",
    "prop_list = []\n",
    "addresses = prop_link1.findAll('div', class_=\"item-1\")\n",
    "for address in addresses:\n",
    "    prop_list.append(address.text)\n",
    "time.sleep(2)\n",
    "next_list =  browser.find_by_text('Next')\n",
    "time.sleep(2)"
   ]
  },
  {
   "cell_type": "code",
   "execution_count": 54,
   "metadata": {},
   "outputs": [],
   "source": [
    "while len(next_list)>0:\n",
    "    try:\n",
    "        next_list =  browser.find_by_text('Next')\n",
    "        browser.click_link_by_partial_text('Next') \n",
    "        time.sleep(3)\n",
    "        data1 = browser.url\n",
    "        browser.visit(data1)\n",
    "\n",
    "        property_link1 = browser.html\n",
    "        prop_link1 = BeautifulSoup(property_link1, 'html.parser')\n",
    "        prop_link1\n",
    "\n",
    "        addresses1 = prop_link1.findAll('div', class_=\"item-1\")\n",
    "        for address1 in addresses1:\n",
    "            prop_list.append(address1.text)\n",
    "        for next1 in next_list:\n",
    "            next_list.remove(next1)\n",
    "    except:\n",
    "        prop_list"
   ]
  },
  {
   "cell_type": "code",
   "execution_count": 55,
   "metadata": {},
   "outputs": [
    {
     "name": "stdout",
     "output_type": "stream",
     "text": [
      "2\n",
      "1\n",
      "0\n"
     ]
    }
   ],
   "source": [
    "browser.click_link_by_partial_href('spatialest')\n",
    "time.sleep(3)\n",
    "prop_mailing1 = []    \n",
    "address = []\n",
    "price = []\n",
    "date = []\n",
    "while len(prop_list)>0:\n",
    "    try:\n",
    "        for prop in prop_list:\n",
    "            browser.find_by_id('primary_search').first.fill(prop)\n",
    "            time.sleep(3)\n",
    "            browser.click_link_by_partial_href('#') \n",
    "            time.sleep(5)\n",
    "            data = browser.url\n",
    "            browser.visit(data)\n",
    "            time.sleep(3)\n",
    "            property_link3 = browser.html\n",
    "            prop_link = BeautifulSoup(property_link3, 'html.parser')\n",
    "            prop_address = prop_link.find('div', class_='location text-highlight')\n",
    "            prop_address1 = prop_address.find('span', class_='value')\n",
    "            prop_address\n",
    "            if prop_address1.text == prop:\n",
    "                \n",
    "                prop_mailing = prop_link.find('div', class_='mailing')\n",
    "                prop_mailing1.append(prop)\n",
    "                address.append(prop)\n",
    "                prop_table = prop_link.findAll('table')[3]\n",
    "                price_table = prop_table.findAll('td')[1]\n",
    "                date_table = prop_table.findAll('td')[0]\n",
    "                for x in price_table:\n",
    "                    price.append(x)\n",
    "                for y in date_table:\n",
    "                    date.append(y)\n",
    "                browser.click_link_by_partial_href('spatialest')\n",
    "                time.sleep(3)\n",
    "                prop_list.remove(prop)\n",
    "                print(len(prop_list))\n",
    "            else:\n",
    "                browser.click_link_by_partial_href('spatialest')\n",
    "                time.sleep(3)\n",
    "                prop_list.remove(prop)\n",
    "                print(len(prop_list))\n",
    "    except:\n",
    "\n",
    "        prop_list.remove(prop)\n",
    "        print(len(prop_list))\n",
    "        browser.click_link_by_partial_href('spatialest')\n",
    "        time.sleep(2)"
   ]
  },
  {
   "cell_type": "code",
   "execution_count": 56,
   "metadata": {},
   "outputs": [],
   "source": [
    "df1 = pd.DataFrame(columns=['Address', 'Price', 'Date'])\n",
    "df1['Address']=address\n",
    "df1['Price']=price\n",
    "df1['Date']=date\n",
    "table = df1.to_html(classes=\"table\")\n",
    "table.replace('\\n', '')\n",
    "df1.to_html('table.html')\n",
    "df = {\n",
    "'Address': address, \n",
    "'Price': price, \n",
    "'Date': date,\n",
    "'Table': table,\n",
    "}"
   ]
  },
  {
   "cell_type": "code",
   "execution_count": 11,
   "metadata": {},
   "outputs": [],
   "source": [
    "# df.to_csv('Barringer3.csv', encoding='utf-8', index=False)"
   ]
  },
  {
   "cell_type": "code",
   "execution_count": 27,
   "metadata": {},
   "outputs": [],
   "source": [
    "# df1 = pd.read_csv('Barringer.csv')"
   ]
  },
  {
   "cell_type": "code",
   "execution_count": 57,
   "metadata": {},
   "outputs": [
    {
     "name": "stderr",
     "output_type": "stream",
     "text": [
      "c:\\users\\user\\appdata\\local\\programs\\python\\python37-32\\lib\\site-packages\\ipykernel_launcher.py:1: DeprecationWarning: update is deprecated. Use replace_one, update_one or update_many instead.\n",
      "  \"\"\"Entry point for launching an IPython kernel.\n"
     ]
    },
    {
     "data": {
      "text/plain": [
       "{'n': 1, 'nModified': 1, 'ok': 1.0, 'updatedExisting': True}"
      ]
     },
     "execution_count": 57,
     "metadata": {},
     "output_type": "execute_result"
    }
   ],
   "source": [
    "mongo.db.collection.update({}, df, upsert=True)\n"
   ]
  },
  {
   "cell_type": "code",
   "execution_count": 68,
   "metadata": {},
   "outputs": [
    {
     "data": {
      "text/html": [
       "<div>\n",
       "<style scoped>\n",
       "    .dataframe tbody tr th:only-of-type {\n",
       "        vertical-align: middle;\n",
       "    }\n",
       "\n",
       "    .dataframe tbody tr th {\n",
       "        vertical-align: top;\n",
       "    }\n",
       "\n",
       "    .dataframe thead th {\n",
       "        text-align: right;\n",
       "    }\n",
       "</style>\n",
       "<table border=\"1\" class=\"dataframe\">\n",
       "  <thead>\n",
       "    <tr style=\"text-align: right;\">\n",
       "      <th></th>\n",
       "      <th>Address</th>\n",
       "      <th>Price</th>\n",
       "      <th>Date</th>\n",
       "    </tr>\n",
       "  </thead>\n",
       "  <tbody>\n",
       "    <tr>\n",
       "      <th>0</th>\n",
       "      <td>2003 WARD ST</td>\n",
       "      <td>338,000</td>\n",
       "      <td>No Recent Sales</td>\n",
       "    </tr>\n",
       "    <tr>\n",
       "      <th>1</th>\n",
       "      <td>808 BRYE ST</td>\n",
       "      <td>81,000</td>\n",
       "      <td>No Recent Sales</td>\n",
       "    </tr>\n",
       "    <tr>\n",
       "      <th>2</th>\n",
       "      <td>1315 RIPLEY ST</td>\n",
       "      <td>255,000</td>\n",
       "      <td>06/16/2006</td>\n",
       "    </tr>\n",
       "  </tbody>\n",
       "</table>\n",
       "</div>"
      ],
      "text/plain": [
       "          Address    Price             Date\n",
       "0    2003 WARD ST  338,000  No Recent Sales\n",
       "1     808 BRYE ST   81,000  No Recent Sales\n",
       "2  1315 RIPLEY ST  255,000       06/16/2006"
      ]
     },
     "execution_count": 68,
     "metadata": {},
     "output_type": "execute_result"
    }
   ],
   "source": [
    "df1.loc[df1['Date'] == '2016 Q1', 'Date'] = 'No Recent Sales'\n",
    "df1"
   ]
  },
  {
   "cell_type": "code",
   "execution_count": 75,
   "metadata": {},
   "outputs": [
    {
     "data": {
      "text/plain": [
       "['No Recent Sales', 'No Recent Sales', '06/16/2006']"
      ]
     },
     "execution_count": 75,
     "metadata": {},
     "output_type": "execute_result"
    }
   ],
   "source": [
    "\n",
    "\n",
    "date1 = ['No Recent Sales' if x=='2016 Q1' else x for x in date]\n",
    "\n",
    "date1"
   ]
  },
  {
   "cell_type": "code",
   "execution_count": 59,
   "metadata": {},
   "outputs": [
    {
     "ename": "AttributeError",
     "evalue": "'NoneType' object has no attribute 'find'",
     "output_type": "error",
     "traceback": [
      "\u001b[1;31m---------------------------------------------------------------------------\u001b[0m",
      "\u001b[1;31mAttributeError\u001b[0m                            Traceback (most recent call last)",
      "\u001b[1;32m<ipython-input-59-3dbb90b99d10>\u001b[0m in \u001b[0;36m<module>\u001b[1;34m\u001b[0m\n\u001b[0;32m      5\u001b[0m \u001b[0mprop_link\u001b[0m \u001b[1;33m=\u001b[0m \u001b[0mBeautifulSoup\u001b[0m\u001b[1;33m(\u001b[0m\u001b[0mproperty_link3\u001b[0m\u001b[1;33m,\u001b[0m \u001b[1;34m'html.parser'\u001b[0m\u001b[1;33m)\u001b[0m\u001b[1;33m\u001b[0m\u001b[1;33m\u001b[0m\u001b[0m\n\u001b[0;32m      6\u001b[0m \u001b[0mprop_address\u001b[0m \u001b[1;33m=\u001b[0m \u001b[0mprop_link\u001b[0m\u001b[1;33m.\u001b[0m\u001b[0mfind\u001b[0m\u001b[1;33m(\u001b[0m\u001b[1;34m'div'\u001b[0m\u001b[1;33m,\u001b[0m \u001b[0mclass_\u001b[0m\u001b[1;33m=\u001b[0m\u001b[1;34m'location text-highlight'\u001b[0m\u001b[1;33m)\u001b[0m\u001b[1;33m\u001b[0m\u001b[1;33m\u001b[0m\u001b[0m\n\u001b[1;32m----> 7\u001b[1;33m \u001b[0mprop_address1\u001b[0m \u001b[1;33m=\u001b[0m \u001b[0mprop_address\u001b[0m\u001b[1;33m.\u001b[0m\u001b[0mfind\u001b[0m\u001b[1;33m(\u001b[0m\u001b[1;34m'span'\u001b[0m\u001b[1;33m,\u001b[0m \u001b[0mclass_\u001b[0m\u001b[1;33m=\u001b[0m\u001b[1;34m'value'\u001b[0m\u001b[1;33m)\u001b[0m\u001b[1;33m\u001b[0m\u001b[1;33m\u001b[0m\u001b[0m\n\u001b[0m\u001b[0;32m      8\u001b[0m \u001b[0mprop_address1\u001b[0m\u001b[1;33m\u001b[0m\u001b[1;33m\u001b[0m\u001b[0m\n",
      "\u001b[1;31mAttributeError\u001b[0m: 'NoneType' object has no attribute 'find'"
     ]
    }
   ],
   "source": [
    "data = browser.url\n",
    "browser.visit(data)\n",
    "time.sleep(3)\n",
    "property_link3 = browser.html\n",
    "prop_link = BeautifulSoup(property_link3, 'html.parser')\n",
    "prop_address = prop_link.find('div', class_='location text-highlight')\n",
    "prop_address1 = prop_address.find('span', class_='value')\n",
    "prop_address1"
   ]
  },
  {
   "cell_type": "code",
   "execution_count": null,
   "metadata": {},
   "outputs": [],
   "source": []
  }
 ],
 "metadata": {
  "kernelspec": {
   "display_name": "Python 3",
   "language": "python",
   "name": "python3"
  },
  "language_info": {
   "codemirror_mode": {
    "name": "ipython",
    "version": 3
   },
   "file_extension": ".py",
   "mimetype": "text/x-python",
   "name": "python",
   "nbconvert_exporter": "python",
   "pygments_lexer": "ipython3",
   "version": "3.7.2"
  }
 },
 "nbformat": 4,
 "nbformat_minor": 2
}
