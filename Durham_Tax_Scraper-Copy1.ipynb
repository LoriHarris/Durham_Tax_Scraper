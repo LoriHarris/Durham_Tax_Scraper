{
 "cells": [
  {
   "cell_type": "code",
   "execution_count": 18,
   "metadata": {},
   "outputs": [],
   "source": [
    "\n",
    "from splinter import Browser\n",
    "from bs4 import BeautifulSoup\n",
    "import time\n",
    "import pymongo\n",
    "import requests\n",
    "from splinter.exceptions import ElementDoesNotExist\n",
    "import pandas as pd\n"
   ]
  },
  {
   "cell_type": "code",
   "execution_count": 19,
   "metadata": {},
   "outputs": [],
   "source": [
    "\n",
    "\n",
    "def init_browser():\n",
    "\n",
    "        executable_path = {\"executable_path\": \"chromedriver.exe\"}\n",
    "        return Browser(\"chrome\", **executable_path, headless=False)\n",
    "\n",
    "\n"
   ]
  },
  {
   "cell_type": "code",
   "execution_count": 20,
   "metadata": {},
   "outputs": [
    {
     "name": "stdout",
     "output_type": "stream",
     "text": [
      "[<input class=\"search\" id=\"primary_search\" placeholder=\"Enter search term...\" type=\"text\" value=\"\"/>]\n"
     ]
    }
   ],
   "source": [
    "address = 'Marne Ave'\n",
    "browser = init_browser()\n",
    "url = 'https://property.spatialest.com/nc/durham/#/'\n",
    "browser.visit(url)\n",
    "html = browser.html\n",
    "soup = BeautifulSoup(html, 'html.parser')\n",
    "\n",
    "results = soup.find_all('input', class_='search')\n",
    "print(results)"
   ]
  },
  {
   "cell_type": "code",
   "execution_count": 21,
   "metadata": {},
   "outputs": [],
   "source": [
    "browser.find_by_id('primary_search').first.fill(address)"
   ]
  },
  {
   "cell_type": "code",
   "execution_count": 22,
   "metadata": {},
   "outputs": [],
   "source": [
    "browser.click_link_by_partial_href('#') "
   ]
  },
  {
   "cell_type": "code",
   "execution_count": 23,
   "metadata": {},
   "outputs": [
    {
     "data": {
      "text/plain": [
       "['1335 MARNE AVE',\n",
       " '1339 MARNE AVE',\n",
       " '1344 MARNE AVE',\n",
       " '1344 MARNE AVE, C',\n",
       " '1344 MARNE AVE, B',\n",
       " '1344 MARNE AVE, C',\n",
       " '1344 MARNE AVE, D',\n",
       " '1340 MARNE AVE',\n",
       " '1334 MARNE AVE',\n",
       " '1330 MARNE AVE',\n",
       " '1326 MARNE AVE',\n",
       " '1322 MARNE AVE',\n",
       " '1318 MARNE AVE',\n",
       " '1314 MARNE AVE',\n",
       " '1310 MARNE AVE',\n",
       " '1306 MARNE AVE',\n",
       " '1302 MARNE AVE',\n",
       " '1242 MARNE AVE',\n",
       " '1240 MARNE AVE',\n",
       " '1236 MARNE AVE',\n",
       " '1232 MARNE AVE']"
      ]
     },
     "execution_count": 23,
     "metadata": {},
     "output_type": "execute_result"
    }
   ],
   "source": [
    "data = browser.url\n",
    "browser.visit(data)\n",
    "\n",
    "property_link1 = browser.html\n",
    "prop_link1 = BeautifulSoup(property_link1, 'html.parser')\n",
    "prop_link1\n",
    "prop_list = []\n",
    "addresses = prop_link1.findAll('div', class_=\"item-1\")\n",
    "for address in addresses:\n",
    "    prop_list.append(address.text)\n",
    "prop_list"
   ]
  },
  {
   "cell_type": "code",
   "execution_count": 26,
   "metadata": {},
   "outputs": [
    {
     "data": {
      "text/plain": [
       "['1335 MARNE AVE',\n",
       " '1339 MARNE AVE',\n",
       " '1344 MARNE AVE',\n",
       " '1344 MARNE AVE, C',\n",
       " '1344 MARNE AVE, B',\n",
       " '1344 MARNE AVE, C',\n",
       " '1344 MARNE AVE, D',\n",
       " '1340 MARNE AVE',\n",
       " '1334 MARNE AVE',\n",
       " '1330 MARNE AVE',\n",
       " '1326 MARNE AVE',\n",
       " '1322 MARNE AVE',\n",
       " '1318 MARNE AVE',\n",
       " '1314 MARNE AVE',\n",
       " '1310 MARNE AVE',\n",
       " '1306 MARNE AVE',\n",
       " '1302 MARNE AVE',\n",
       " '1242 MARNE AVE',\n",
       " '1240 MARNE AVE',\n",
       " '1236 MARNE AVE',\n",
       " '1232 MARNE AVE',\n",
       " '1228 MARNE AVE',\n",
       " '1224 MARNE AVE',\n",
       " '1220 MARNE AVE',\n",
       " '1214 MARNE AVE',\n",
       " '1210 MARNE AVE',\n",
       " '1206 MARNE AVE',\n",
       " '1202 MARNE AVE',\n",
       " '1201 MARNE AVE',\n",
       " '1205 MARNE AVE',\n",
       " '1209 MARNE AVE',\n",
       " '1213 MARNE AVE',\n",
       " '1217 MARNE AVE',\n",
       " '1221 MARNE AVE',\n",
       " '1225 MARNE AVE',\n",
       " '1229 MARNE AVE',\n",
       " '1233 MARNE AVE',\n",
       " '1237 MARNE AVE',\n",
       " '1218 MARNE AVE']"
      ]
     },
     "execution_count": 26,
     "metadata": {},
     "output_type": "execute_result"
    }
   ],
   "source": [
    "\n",
    "browser.click_link_by_partial_text('Next') \n",
    "time.sleep(3)\n",
    "data1 = browser.url\n",
    "browser.visit(data1)\n",
    "\n",
    "property_link1 = browser.html\n",
    "prop_link1 = BeautifulSoup(property_link1, 'html.parser')\n",
    "prop_link1\n",
    "\n",
    "addresses1 = prop_link1.findAll('div', class_=\"item-1\")\n",
    "for address1 in addresses1:\n",
    "    prop_list.append(address1.text)\n",
    "prop_list\n"
   ]
  },
  {
   "cell_type": "code",
   "execution_count": 27,
   "metadata": {},
   "outputs": [
    {
     "ename": "NameError",
     "evalue": "name 'price' is not defined",
     "output_type": "error",
     "traceback": [
      "\u001b[1;31m---------------------------------------------------------------------------\u001b[0m",
      "\u001b[1;31mNameError\u001b[0m                                 Traceback (most recent call last)",
      "\u001b[1;32m<ipython-input-27-d1c2c81b236a>\u001b[0m in \u001b[0;36m<module>\u001b[1;34m\u001b[0m\n\u001b[0;32m      1\u001b[0m \u001b[0mdf\u001b[0m \u001b[1;33m=\u001b[0m \u001b[0mpd\u001b[0m\u001b[1;33m.\u001b[0m\u001b[0mDataFrame\u001b[0m\u001b[1;33m(\u001b[0m\u001b[0mcolumns\u001b[0m\u001b[1;33m=\u001b[0m\u001b[1;33m[\u001b[0m\u001b[1;34m'Address'\u001b[0m\u001b[1;33m,\u001b[0m \u001b[1;34m'Price'\u001b[0m\u001b[1;33m,\u001b[0m \u001b[1;34m'Date'\u001b[0m\u001b[1;33m]\u001b[0m\u001b[1;33m)\u001b[0m\u001b[1;33m\u001b[0m\u001b[1;33m\u001b[0m\u001b[0m\n\u001b[0;32m      2\u001b[0m \u001b[0mdf\u001b[0m\u001b[1;33m[\u001b[0m\u001b[1;34m'Address'\u001b[0m\u001b[1;33m]\u001b[0m\u001b[1;33m=\u001b[0m\u001b[0maddress\u001b[0m\u001b[1;33m\u001b[0m\u001b[1;33m\u001b[0m\u001b[0m\n\u001b[1;32m----> 3\u001b[1;33m \u001b[0mdf\u001b[0m\u001b[1;33m[\u001b[0m\u001b[1;34m'Price'\u001b[0m\u001b[1;33m]\u001b[0m\u001b[1;33m=\u001b[0m\u001b[0mprice\u001b[0m\u001b[1;33m\u001b[0m\u001b[1;33m\u001b[0m\u001b[0m\n\u001b[0m\u001b[0;32m      4\u001b[0m \u001b[0mdf\u001b[0m\u001b[1;33m[\u001b[0m\u001b[1;34m'Date'\u001b[0m\u001b[1;33m]\u001b[0m\u001b[1;33m=\u001b[0m\u001b[0mdate\u001b[0m\u001b[1;33m\u001b[0m\u001b[1;33m\u001b[0m\u001b[0m\n\u001b[0;32m      5\u001b[0m \u001b[0mdf\u001b[0m\u001b[1;33m\u001b[0m\u001b[1;33m\u001b[0m\u001b[0m\n",
      "\u001b[1;31mNameError\u001b[0m: name 'price' is not defined"
     ]
    }
   ],
   "source": [
    "df = pd.DataFrame(columns=['Address', 'Price', 'Date'])\n",
    "df['Address']=address\n",
    "df['Price']=price\n",
    "df['Date']=date\n",
    "df"
   ]
  },
  {
   "cell_type": "code",
   "execution_count": null,
   "metadata": {},
   "outputs": [],
   "source": [
    "df.to_csv('Barringer3.csv', encoding='utf-8', index=False)"
   ]
  },
  {
   "cell_type": "code",
   "execution_count": null,
   "metadata": {},
   "outputs": [],
   "source": []
  },
  {
   "cell_type": "code",
   "execution_count": null,
   "metadata": {},
   "outputs": [],
   "source": []
  }
 ],
 "metadata": {
  "kernelspec": {
   "display_name": "Python 3",
   "language": "python",
   "name": "python3"
  },
  "language_info": {
   "codemirror_mode": {
    "name": "ipython",
    "version": 3
   },
   "file_extension": ".py",
   "mimetype": "text/x-python",
   "name": "python",
   "nbconvert_exporter": "python",
   "pygments_lexer": "ipython3",
   "version": "3.7.2"
  }
 },
 "nbformat": 4,
 "nbformat_minor": 2
}
